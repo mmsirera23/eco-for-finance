{
 "cells": [
  {
   "cell_type": "markdown",
   "id": "05690693",
   "metadata": {},
   "source": [
    "## GUÍA EJERCICIOS NRO 1\n",
    "\n",
    "### ECONOMETRÍA PARA FINANZAS\n",
    "#### UNIVERSIDAD TORCUATO DI TELLA - 1° TRIMESTRE 2025\n",
    "##### Francisco Ciocchini - Bárbara Guerezta"
   ]
  },
  {
   "cell_type": "code",
   "execution_count": 1,
   "id": "b8dcdf6e",
   "metadata": {},
   "outputs": [],
   "source": [
    "import nbconvert\n",
    "import pandas as pd"
   ]
  },
  {
   "cell_type": "markdown",
   "id": "2ebe021b",
   "metadata": {},
   "source": [
    "### OBJETIVO"
   ]
  },
  {
   "cell_type": "markdown",
   "id": "36473d1c",
   "metadata": {},
   "source": [
    "El objetivo de este trabajo práctico es familiarizarse con el uso de Python, conocer algunas herramientas que serán útiles durante la materia.\\\n",
    "Mucho del material que utilizamos en este trabajo proviene del libro \"Automate the Boring Stuff with Python\"\\\n",
    "Para resolver este trabajo puede ser útil consultar el material de consulta."
   ]
  },
  {
   "cell_type": "markdown",
   "id": "2cfb838a",
   "metadata": {},
   "source": [
    "### PROBLEMA 1 - DEBUGGING DE UN CÓDIGO"
   ]
  },
  {
   "cell_type": "markdown",
   "id": "8bd5c88c",
   "metadata": {},
   "source": [
    "Hemos armado la siguiente rutina de operaciones:\\\n",
    "Un programa pide que el usuario piense un número, y luego de un conjunto de operaciones matemáticas, el programa adivina el número que el usuario estaba pensando! Es una simple operación de despeje.\\\n",
    "Pero lamentablemente el programa está roto! Hay dos errores que nos impiden llegar al final del programa, que debemos resolver"
   ]
  },
  {
   "cell_type": "code",
   "execution_count": 1,
   "id": "a96992fb",
   "metadata": {},
   "outputs": [
    {
     "name": "stdout",
     "output_type": "stream",
     "text": [
      "Hola! Vamos a divertinos un rato. Te pido que pienses un número del 0 al 9 y le sumes 10\n",
      "A ese número luego te pido que lo multipliques por 2\n",
      "Al resultado, restále 5\n",
      "¿Terminaste? ¿Escribí el resultado en el box\n"
     ]
    }
   ],
   "source": [
    "print(\"Hola! Vamos a divertinos un rato. Te pido que pienses un número del 0 al 9 y le sumes 10\")\n",
    "print(\"A ese número luego te pido que lo multipliques por 2\")\n",
    "print(\"Al resultado, restále 5\")\n",
    "print(\"¿Terminaste? ¿Escribí el resultado en el box\")"
   ]
  },
  {
   "cell_type": "code",
   "execution_count": 2,
   "id": "5099783e",
   "metadata": {},
   "outputs": [
    {
     "name": "stdout",
     "output_type": "stream",
     "text": [
      "25\n"
     ]
    }
   ],
   "source": [
    "rdo = input()"
   ]
  },
  {
   "cell_type": "markdown",
   "id": "2dde1be9",
   "metadata": {},
   "source": [
    "El truco para encontrar el número que pensó el usuario es desandar todas las operaciones: sumar 5, /2 -10."
   ]
  },
  {
   "cell_type": "code",
   "execution_count": 5,
   "id": "58058680",
   "metadata": {},
   "outputs": [],
   "source": [
    "a = rdo + 5\n",
    "b = a / 2\n",
    "c = b - 10"
   ]
  },
  {
   "cell_type": "markdown",
   "id": "34ccf473",
   "metadata": {},
   "source": [
    "La variable \"c\" almacena el resultado de toda la operación. Noten que creamos tres variables, podríamos haber encadenado las funciones, pero esto puede resultar más fácil de comprender"
   ]
  },
  {
   "cell_type": "markdown",
   "id": "002f2e7e",
   "metadata": {},
   "source": [
    "**¿Por qué da error la sintaxis a = rdo + 5?**\\\n",
    "Arreglá la sintaxis y explicá brevemente qué hiciste para resolverlo"
   ]
  },
  {
   "cell_type": "markdown",
   "id": "7afb5f33",
   "metadata": {},
   "source": [
    "**RTA:** "
   ]
  },
  {
   "cell_type": "markdown",
   "id": "4ab22fce",
   "metadata": {},
   "source": [
    "Ahora que ya está resuelto y que sabemos que la variable \"c\" contiene el número que la persona pensó, vamos a sorprenderla con la respuesta:"
   ]
  },
  {
   "cell_type": "code",
   "execution_count": 10,
   "id": "f2a19ec3",
   "metadata": {},
   "outputs": [
    {
     "name": "stdout",
     "output_type": "stream",
     "text": [
      "Acaso pensaste en ... 5.0\n"
     ]
    }
   ],
   "source": [
    "print(\"Acaso pensaste en ... \" + c)"
   ]
  },
  {
   "cell_type": "markdown",
   "id": "47fc6abb",
   "metadata": {},
   "source": [
    "**¿Por qué da error el print?** Arreglá la sintaxis y explicá brevemente qué hiciste para resolverlo"
   ]
  },
  {
   "cell_type": "markdown",
   "id": "b96c50b0",
   "metadata": {},
   "source": [
    "**RTA:**"
   ]
  },
  {
   "cell_type": "markdown",
   "id": "363cff16",
   "metadata": {},
   "source": [
    "<h6><center>FIN PROBLEMA 1</center></h6>\n",
    "<p style=\"page-break-after:always;\"></p>"
   ]
  },
  {
   "cell_type": "markdown",
   "id": "73501add",
   "metadata": {},
   "source": [
    "### PROBLEMA 2 - PANDAS DATAFRAMES"
   ]
  },
  {
   "cell_type": "markdown",
   "id": "9ffab201",
   "metadata": {},
   "source": [
    "Cierto inversor tiene contabilizados todos los activos que posee en su cartera de inversión en un papel. Allí tiene: nombre del activo, cantidad de unidades adquiridas, precio de compra y precio actual. Supongamos que compró todos los activos el mismo día, y que nunca más movió su cartera. En la lista \"port\" almacenamos esa información:"
   ]
  },
  {
   "cell_type": "code",
   "execution_count": 20,
   "id": "903ff929",
   "metadata": {},
   "outputs": [],
   "source": [
    "import pandas as pd"
   ]
  },
  {
   "cell_type": "code",
   "execution_count": 17,
   "id": "3ae7869b",
   "metadata": {},
   "outputs": [],
   "source": [
    "port = [['SPY', 20, 476.16, 417],\n",
    "        ['TSLA', 10, 1056.78, 766.17],\n",
    "        ['NFLX', 20, 602.44, 331.01],\n",
    "        ['GLD', 100, 170.96, 182.30]\n",
    "]"
   ]
  },
  {
   "cell_type": "markdown",
   "id": "c813c3de",
   "metadata": {},
   "source": [
    "**Pregunta 1** Almacenar todas las tenencias en un dataframe cuyas columnas sean:\\\n",
    "\"Ticker, Q, Pc, Pa\" donde Q= cantidad, Pc= Precio de compra y Pa =Precio actual"
   ]
  },
  {
   "cell_type": "code",
   "execution_count": null,
   "id": "a315aa6f",
   "metadata": {},
   "outputs": [],
   "source": []
  },
  {
   "cell_type": "markdown",
   "id": "e3030797",
   "metadata": {},
   "source": [
    "**Pregunta 2** ¿Cuánta plata invirtió inicialmente y cuál es el valor actual del portafolio?"
   ]
  },
  {
   "cell_type": "code",
   "execution_count": null,
   "id": "9e31137b",
   "metadata": {},
   "outputs": [],
   "source": []
  },
  {
   "cell_type": "code",
   "execution_count": null,
   "id": "364cceb9",
   "metadata": {},
   "outputs": [],
   "source": []
  },
  {
   "cell_type": "markdown",
   "id": "445a7bec",
   "metadata": {},
   "source": [
    "**Pregunta 3** Calcular la rentabilidad obtenida (ie, variación %) de cada una de las inversiones, y calcular luego la rentabilidad de toda la cartera"
   ]
  },
  {
   "cell_type": "code",
   "execution_count": null,
   "id": "38d0e630",
   "metadata": {},
   "outputs": [],
   "source": []
  },
  {
   "cell_type": "markdown",
   "id": "eac65cb0",
   "metadata": {},
   "source": [
    "<h6><center>FIN PROBLEMA 2</center></h6>\n",
    "<p style=\"page-break-after:always;\"></p>"
   ]
  },
  {
   "cell_type": "markdown",
   "id": "e07b2a4f",
   "metadata": {},
   "source": [
    "### PROBLEMA 3 - ARCHIVOS DE EXCEL"
   ]
  },
  {
   "cell_type": "markdown",
   "id": "e156cb95",
   "metadata": {},
   "source": [
    "Nos contactó una heladería que quiere analizar sus ingresos por la venta de helados.\\\n",
    "Nos entregó un excel que contiene las ventas de helado desde el año 2002 hasta el año 2021 inclusive.\\\n",
    "Las ventas fueron todas expresadas en términos de kilos de helado; y fueron agrupadas de acuerdo a la estación del año ('verano', 'otoño', 'invierno', 'primavera')."
   ]
  },
  {
   "cell_type": "markdown",
   "id": "b8beec7e",
   "metadata": {},
   "source": [
    "**Pregunta 1** Importar el archivo de excel, guardarlo en un dataframe \"helados\". Imprimir las primeras y las últimas filas del dataframe en pantalla \\\n",
    "El dataframe está estructurado de esta manera: columna 'year' contiene el año que se tabula. Cada año está separado en trimestres de acuerdo a la estación del año: 'verano', 'otoño', 'invierno', 'primavera' (¿Se les ocurre por qué?). La variable 'Ventas_mes' contiene las ventas promedio en cada mes de esa estación de ese año, escaladas en términos de kilos de helado. 'Precio_kg' es el precio promedio del kilo de helado de esa temporada. 'IPC' es el índice de precios al consumidor de Buenos Aires para esa estación del año"
   ]
  },
  {
   "cell_type": "code",
   "execution_count": null,
   "id": "a75a9228",
   "metadata": {},
   "outputs": [],
   "source": []
  },
  {
   "cell_type": "markdown",
   "id": "69782a9f",
   "metadata": {},
   "source": [
    "**Pregunta 2** Análisis exploratorio:\\\n",
    "Calcular los ingresos promedio *mensuales* y los ingresos acumulados en cada temporada (ie. *trimestrales*) de la heladería (Kg * precio)"
   ]
  },
  {
   "cell_type": "code",
   "execution_count": null,
   "id": "ef9db06e",
   "metadata": {},
   "outputs": [],
   "source": []
  },
  {
   "cell_type": "markdown",
   "id": "e3cda015",
   "metadata": {},
   "source": [
    "**Pregunta 3** ¿Cuántos kilos de helado vendió la heladería y a cuánto ascendieron sus ingresos en el año 2021? ¿Cuál fue el precio promedio de venta del kilo de helado en el año 2021?"
   ]
  },
  {
   "cell_type": "code",
   "execution_count": null,
   "id": "8cf1ed5e",
   "metadata": {},
   "outputs": [],
   "source": []
  },
  {
   "cell_type": "markdown",
   "id": "4dc608dd",
   "metadata": {},
   "source": [
    "**Pregunta 4** Calcular las variaciones porcentuales interanuales de las ventas de kilos de helado, del precio del helado y de la inflación en Buenos Aires"
   ]
  },
  {
   "cell_type": "code",
   "execution_count": null,
   "id": "fdd4c6a2",
   "metadata": {},
   "outputs": [],
   "source": []
  },
  {
   "cell_type": "markdown",
   "id": "99be1736",
   "metadata": {},
   "source": [
    "**Pregunta 5** Graficar la evolución de la variación del precio del helado y la variación de la inflación observada en Buenos Aires a lo largo del tiempo"
   ]
  },
  {
   "cell_type": "code",
   "execution_count": null,
   "id": "cb1fa21a",
   "metadata": {},
   "outputs": [],
   "source": []
  },
  {
   "cell_type": "markdown",
   "id": "98158ca2",
   "metadata": {},
   "source": [
    "**Pregunta 6** Estimar una regresión univariada para explicar la variación en el precio del helado con respecto a la variación de la inflación observada en Buenos Aires"
   ]
  },
  {
   "cell_type": "code",
   "execution_count": null,
   "id": "ae8bd4a5",
   "metadata": {},
   "outputs": [],
   "source": []
  },
  {
   "cell_type": "markdown",
   "id": "7e6faedf",
   "metadata": {},
   "source": [
    "<h6><center>FIN PROBLEMA 3</center></h6>\n",
    "<p style=\"page-break-after:always;\"></p>"
   ]
  }
 ],
 "metadata": {
  "kernelspec": {
   "display_name": "Python 3 (ipykernel)",
   "language": "python",
   "name": "python3"
  },
  "language_info": {
   "codemirror_mode": {
    "name": "ipython",
    "version": 3
   },
   "file_extension": ".py",
   "mimetype": "text/x-python",
   "name": "python",
   "nbconvert_exporter": "python",
   "pygments_lexer": "ipython3",
   "version": "3.11.4"
  }
 },
 "nbformat": 4,
 "nbformat_minor": 5
}
