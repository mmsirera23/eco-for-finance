{
 "cells": [
  {
   "cell_type": "markdown",
   "id": "3e5fabe4",
   "metadata": {},
   "source": [
    "## GUÍA EJERCICIOS NRO 1 - MATERIAL DE CONSULTA\n",
    "\n",
    "### ECONOMETRÍA PARA FINANZAS\n",
    "#### UNIVERSIDAD TORCUATO DI TELLA - 1° TRIMESTRE 2025\n",
    "##### Francisco Ciocchini - Bárbara Guerezta"
   ]
  },
  {
   "cell_type": "markdown",
   "id": "369e23e4",
   "metadata": {},
   "source": [
    "### Objetivo"
   ]
  },
  {
   "cell_type": "markdown",
   "id": "1e0ba178",
   "metadata": {},
   "source": [
    "El objetivo de este trabajo práctico es familiarizarse con el uso de Python, conocer algunas herramientas que serán útiles durante la materia.\\\n",
    "Mucho del material que utilizamos en este trabajo proviene del libro \"Automate the Boring Stuff with Python\""
   ]
  },
  {
   "cell_type": "markdown",
   "id": "83dc28f0",
   "metadata": {},
   "source": [
    "### Operaciones básicas en Python"
   ]
  },
  {
   "cell_type": "markdown",
   "id": "5252fc76",
   "metadata": {},
   "source": [
    "Podemos utilizar Python como una calculadora recurriendo a operadores:\\\n",
    "1. ** Exponente\n",
    "2. % Módulo o resto en una división\n",
    "3. // El entero en una división\n",
    "4. / División\n",
    "5. '* Multiplicación\n",
    "6. '- Resta\n",
    "7. '+ Suma"
   ]
  },
  {
   "cell_type": "markdown",
   "id": "4a1c447d",
   "metadata": {},
   "source": [
    "*Ejemplos*"
   ]
  },
  {
   "cell_type": "code",
   "execution_count": 1,
   "id": "3bc6a73e",
   "metadata": {},
   "outputs": [
    {
     "data": {
      "text/plain": [
       "20"
      ]
     },
     "execution_count": 1,
     "metadata": {},
     "output_type": "execute_result"
    }
   ],
   "source": [
    "2 + 3 * 6 # Noten que separa en términos!"
   ]
  },
  {
   "cell_type": "code",
   "execution_count": 2,
   "id": "6c089179",
   "metadata": {},
   "outputs": [
    {
     "data": {
      "text/plain": [
       "30"
      ]
     },
     "execution_count": 2,
     "metadata": {},
     "output_type": "execute_result"
    }
   ],
   "source": [
    "(2 + 3) *6"
   ]
  },
  {
   "cell_type": "code",
   "execution_count": 3,
   "id": "47d41cff",
   "metadata": {},
   "outputs": [
    {
     "data": {
      "text/plain": [
       "8"
      ]
     },
     "execution_count": 3,
     "metadata": {},
     "output_type": "execute_result"
    }
   ],
   "source": [
    "2**3"
   ]
  },
  {
   "cell_type": "code",
   "execution_count": 4,
   "id": "1e74eb0f",
   "metadata": {},
   "outputs": [
    {
     "data": {
      "text/plain": [
       "15"
      ]
     },
     "execution_count": 4,
     "metadata": {},
     "output_type": "execute_result"
    }
   ],
   "source": [
    "3*5"
   ]
  },
  {
   "cell_type": "code",
   "execution_count": 5,
   "id": "1e16dfee",
   "metadata": {},
   "outputs": [
    {
     "data": {
      "text/plain": [
       "3"
      ]
     },
     "execution_count": 5,
     "metadata": {},
     "output_type": "execute_result"
    }
   ],
   "source": [
    "28//8"
   ]
  },
  {
   "cell_type": "code",
   "execution_count": 6,
   "id": "6c076cf5",
   "metadata": {},
   "outputs": [
    {
     "data": {
      "text/plain": [
       "3.5"
      ]
     },
     "execution_count": 6,
     "metadata": {},
     "output_type": "execute_result"
    }
   ],
   "source": [
    "28/8"
   ]
  },
  {
   "cell_type": "code",
   "execution_count": 7,
   "id": "7f9ec3eb",
   "metadata": {},
   "outputs": [
    {
     "data": {
      "text/plain": [
       "4"
      ]
     },
     "execution_count": 7,
     "metadata": {},
     "output_type": "execute_result"
    }
   ],
   "source": [
    "28%8"
   ]
  },
  {
   "cell_type": "markdown",
   "id": "6c74b976",
   "metadata": {},
   "source": [
    "### Tipos de Datos: integer, floating and string"
   ]
  },
  {
   "cell_type": "markdown",
   "id": "28652ee0",
   "metadata": {},
   "source": [
    "Un tipo de dato es una categoría para un valor; todos los valores pertenecen a un tipo de dato. Los más comunes son los integers (whole numbers), floating (decimals), strings (text)."
   ]
  },
  {
   "cell_type": "code",
   "execution_count": 8,
   "id": "9a18bebf",
   "metadata": {},
   "outputs": [
    {
     "data": {
      "text/plain": [
       "int"
      ]
     },
     "execution_count": 8,
     "metadata": {},
     "output_type": "execute_result"
    }
   ],
   "source": [
    "type(-2)"
   ]
  },
  {
   "cell_type": "code",
   "execution_count": 9,
   "id": "02b0f761",
   "metadata": {},
   "outputs": [
    {
     "data": {
      "text/plain": [
       "int"
      ]
     },
     "execution_count": 9,
     "metadata": {},
     "output_type": "execute_result"
    }
   ],
   "source": [
    "type(5)"
   ]
  },
  {
   "cell_type": "code",
   "execution_count": 10,
   "id": "881e2595",
   "metadata": {},
   "outputs": [
    {
     "data": {
      "text/plain": [
       "float"
      ]
     },
     "execution_count": 10,
     "metadata": {},
     "output_type": "execute_result"
    }
   ],
   "source": [
    "type(0.5)"
   ]
  },
  {
   "cell_type": "code",
   "execution_count": 11,
   "id": "44772e37",
   "metadata": {},
   "outputs": [
    {
     "ename": "NameError",
     "evalue": "name 'a' is not defined",
     "output_type": "error",
     "traceback": [
      "\u001b[1;31m---------------------------------------------------------------------------\u001b[0m",
      "\u001b[1;31mNameError\u001b[0m                                 Traceback (most recent call last)",
      "Input \u001b[1;32mIn [11]\u001b[0m, in \u001b[0;36m<cell line: 1>\u001b[1;34m()\u001b[0m\n\u001b[1;32m----> 1\u001b[0m \u001b[38;5;28mtype\u001b[39m(\u001b[43ma\u001b[49m)\n",
      "\u001b[1;31mNameError\u001b[0m: name 'a' is not defined"
     ]
    }
   ],
   "source": [
    "type(a)"
   ]
  },
  {
   "cell_type": "code",
   "execution_count": 12,
   "id": "e95deb78",
   "metadata": {},
   "outputs": [
    {
     "data": {
      "text/plain": [
       "str"
      ]
     },
     "execution_count": 12,
     "metadata": {},
     "output_type": "execute_result"
    }
   ],
   "source": [
    "type(\"a\")"
   ]
  },
  {
   "cell_type": "markdown",
   "id": "a0f073ba",
   "metadata": {},
   "source": [
    "Noten que \"a\" es reconocida como string cuando está entre comillas. Si me olvido las comillas Python asume que se trata de un objeto, y como no lo hemos definido, no lo encuentra."
   ]
  },
  {
   "cell_type": "markdown",
   "id": "4649b7ba",
   "metadata": {},
   "source": [
    "### Concatenar"
   ]
  },
  {
   "cell_type": "markdown",
   "id": "2cfea51e",
   "metadata": {},
   "source": [
    "Un operador puede tener diferente significado en función del tipo del dato, por eso es muy importante tener bien delimitados los valores en Python. Veamos cómo funciona el operador \"+\" para dos tipos de datos: strings y numerics."
   ]
  },
  {
   "cell_type": "code",
   "execution_count": 13,
   "id": "931ae469",
   "metadata": {},
   "outputs": [
    {
     "data": {
      "text/plain": [
       "7"
      ]
     },
     "execution_count": 13,
     "metadata": {},
     "output_type": "execute_result"
    }
   ],
   "source": [
    "2 + 5"
   ]
  },
  {
   "cell_type": "code",
   "execution_count": 14,
   "id": "6a2804c9",
   "metadata": {},
   "outputs": [
    {
     "data": {
      "text/plain": [
       "'25'"
      ]
     },
     "execution_count": 14,
     "metadata": {},
     "output_type": "execute_result"
    }
   ],
   "source": [
    "\"2\" + \"5\""
   ]
  },
  {
   "cell_type": "markdown",
   "id": "2683656c",
   "metadata": {},
   "source": [
    "¿qué ocurrió? '2' y '5' están entre comillas. Eso significa que para python, el 2 y el 5 son textos. El \"+\" allí no funciona como un operador de suma, sino que concatena los valores. Veamos con otros ejemplos:"
   ]
  },
  {
   "cell_type": "code",
   "execution_count": 15,
   "id": "1edd6e2d",
   "metadata": {},
   "outputs": [
    {
     "data": {
      "text/plain": [
       "'Helloworld'"
      ]
     },
     "execution_count": 15,
     "metadata": {},
     "output_type": "execute_result"
    }
   ],
   "source": [
    "\"Hello\" + \"world\""
   ]
  },
  {
   "cell_type": "code",
   "execution_count": 16,
   "id": "035f5902",
   "metadata": {},
   "outputs": [
    {
     "data": {
      "text/plain": [
       "'Hello world'"
      ]
     },
     "execution_count": 16,
     "metadata": {},
     "output_type": "execute_result"
    }
   ],
   "source": [
    "\"Hello \" + \"world\""
   ]
  },
  {
   "cell_type": "code",
   "execution_count": 17,
   "id": "446d1fb3",
   "metadata": {},
   "outputs": [
    {
     "ename": "TypeError",
     "evalue": "can only concatenate str (not \"int\") to str",
     "output_type": "error",
     "traceback": [
      "\u001b[1;31m---------------------------------------------------------------------------\u001b[0m",
      "\u001b[1;31mTypeError\u001b[0m                                 Traceback (most recent call last)",
      "Input \u001b[1;32mIn [17]\u001b[0m, in \u001b[0;36m<cell line: 1>\u001b[1;34m()\u001b[0m\n\u001b[1;32m----> 1\u001b[0m \u001b[38;5;124;43m\"\u001b[39;49m\u001b[38;5;124;43mAlice\u001b[39;49m\u001b[38;5;124;43m\"\u001b[39;49m\u001b[43m \u001b[49m\u001b[38;5;241;43m+\u001b[39;49m\u001b[43m \u001b[49m\u001b[38;5;241;43m42\u001b[39;49m\n",
      "\u001b[1;31mTypeError\u001b[0m: can only concatenate str (not \"int\") to str"
     ]
    }
   ],
   "source": [
    "\"Alice\" + 42"
   ]
  },
  {
   "cell_type": "markdown",
   "id": "b6cb6dd9",
   "metadata": {},
   "source": [
    "El error anterior radica en que Python no puede concatenar strings con integers. ¿Cómo lo podemos salvar?"
   ]
  },
  {
   "cell_type": "code",
   "execution_count": null,
   "id": "bb1d97fa",
   "metadata": {},
   "outputs": [],
   "source": [
    "\"Alice tiene \" + \"42\" + \" años\""
   ]
  },
  {
   "cell_type": "markdown",
   "id": "43f454ef",
   "metadata": {},
   "source": [
    "Ahora sí."
   ]
  },
  {
   "cell_type": "markdown",
   "id": "c9fdfe03",
   "metadata": {},
   "source": [
    "¿Qué ocurre con el operador '*'?"
   ]
  },
  {
   "cell_type": "code",
   "execution_count": 18,
   "id": "298bf8c9",
   "metadata": {},
   "outputs": [
    {
     "data": {
      "text/plain": [
       "8"
      ]
     },
     "execution_count": 18,
     "metadata": {},
     "output_type": "execute_result"
    }
   ],
   "source": [
    "2*4"
   ]
  },
  {
   "cell_type": "code",
   "execution_count": 19,
   "id": "a91e0210",
   "metadata": {},
   "outputs": [
    {
     "data": {
      "text/plain": [
       "'AliceAlice'"
      ]
     },
     "execution_count": 19,
     "metadata": {},
     "output_type": "execute_result"
    }
   ],
   "source": [
    "'Alice' * 2"
   ]
  },
  {
   "cell_type": "markdown",
   "id": "cbb48296",
   "metadata": {},
   "source": [
    "Nota: ES FUNDAMENTAL TENER BIEN IDENTIFICADOS LOS TIPOS DE VALORES PARA QUE LOS OPERADORES REALICEN LA TAREA QUE QUEREMOS."
   ]
  },
  {
   "cell_type": "markdown",
   "id": "9b8726e5",
   "metadata": {},
   "source": [
    "### Funciones básicas"
   ]
  },
  {
   "cell_type": "markdown",
   "id": "8d51dfa6",
   "metadata": {},
   "source": [
    "Cuando instalamos Python incorporamos algunas operaciones primitivas: como los operadores que vimos antes, pero también algunas otra funcionalidades. Estas funciones tienen una sintaxis similar a lo que conocemos como funciones en matemática: f(x). Sobre el argumento \"x\" aplicamos una operación que se llama \"f\". Veamos algunas:"
   ]
  },
  {
   "cell_type": "code",
   "execution_count": 20,
   "id": "58aa9bf7",
   "metadata": {},
   "outputs": [
    {
     "ename": "NameError",
     "evalue": "name 'edad' is not defined",
     "output_type": "error",
     "traceback": [
      "\u001b[1;31m---------------------------------------------------------------------------\u001b[0m",
      "\u001b[1;31mNameError\u001b[0m                                 Traceback (most recent call last)",
      "Input \u001b[1;32mIn [20]\u001b[0m, in \u001b[0;36m<cell line: 1>\u001b[1;34m()\u001b[0m\n\u001b[1;32m----> 1\u001b[0m \u001b[38;5;28mlen\u001b[39m(\u001b[43medad\u001b[49m)\n",
      "\u001b[1;31mNameError\u001b[0m: name 'edad' is not defined"
     ]
    }
   ],
   "source": [
    "len(edad) #La función len cuenta la cantidad de caracteres de un argumento. Este argumento puede ser numérico, o string"
   ]
  },
  {
   "cell_type": "code",
   "execution_count": 21,
   "id": "c545c42d",
   "metadata": {},
   "outputs": [
    {
     "data": {
      "text/plain": [
       "7"
      ]
     },
     "execution_count": 21,
     "metadata": {},
     "output_type": "execute_result"
    }
   ],
   "source": [
    "len(\"Marcelo\")"
   ]
  },
  {
   "cell_type": "code",
   "execution_count": 22,
   "id": "500f1f76",
   "metadata": {},
   "outputs": [
    {
     "data": {
      "text/plain": [
       "'42'"
      ]
     },
     "execution_count": 22,
     "metadata": {},
     "output_type": "execute_result"
    }
   ],
   "source": [
    "str(42) #La función \"str\" convierte en string un valor que puede no serlo originalmente. Aquí convertimos en string el número"
   ]
  },
  {
   "cell_type": "code",
   "execution_count": 23,
   "id": "6e2c7221",
   "metadata": {},
   "outputs": [
    {
     "data": {
      "text/plain": [
       "42"
      ]
     },
     "execution_count": 23,
     "metadata": {},
     "output_type": "execute_result"
    }
   ],
   "source": [
    "int(\"42\") #Equivalentemente int puede convertir un string en integer"
   ]
  },
  {
   "cell_type": "code",
   "execution_count": 24,
   "id": "bfe2e0be",
   "metadata": {},
   "outputs": [
    {
     "data": {
      "text/plain": [
       "42.0"
      ]
     },
     "execution_count": 24,
     "metadata": {},
     "output_type": "execute_result"
    }
   ],
   "source": [
    "float(42) #La función float convierte en un número decimal un integer o un string"
   ]
  },
  {
   "cell_type": "code",
   "execution_count": 25,
   "id": "fcbed21d",
   "metadata": {},
   "outputs": [
    {
     "data": {
      "text/plain": [
       "42.0"
      ]
     },
     "execution_count": 25,
     "metadata": {},
     "output_type": "execute_result"
    }
   ],
   "source": [
    "float(\"42\")"
   ]
  },
  {
   "cell_type": "code",
   "execution_count": 26,
   "id": "ae98a7b4",
   "metadata": {},
   "outputs": [
    {
     "name": "stdout",
     "output_type": "stream",
     "text": [
      "Hola\n"
     ]
    }
   ],
   "source": [
    "print(\"Hola\") #La función print permite imprimir en pantalla (ahora puede parecer \"innecesaria\", pero no lo es)"
   ]
  },
  {
   "cell_type": "markdown",
   "id": "681e7e23",
   "metadata": {},
   "source": [
    "Hay más funciones nativas, y las iremos viendo a lo largo del curso (con ayuda de Google incluso!)"
   ]
  },
  {
   "cell_type": "markdown",
   "id": "07e217d5",
   "metadata": {},
   "source": [
    "### Guardar valores en variables"
   ]
  },
  {
   "cell_type": "markdown",
   "id": "344e310b",
   "metadata": {},
   "source": [
    "Hasta ahora no hemos guardado nada en el disco ni en la memoria de la computadora. Simplemente estamos \"viendo\" elementos.\\\n",
    "Nosotros vamos a necesitar guardar cierta información o valores al menos transitoriamente a lo largo del curso.\\\n",
    "Es decir, vamos a crear *variables* para guardar *valores*"
   ]
  },
  {
   "cell_type": "code",
   "execution_count": null,
   "id": "767dd73b",
   "metadata": {},
   "outputs": [],
   "source": []
  },
  {
   "cell_type": "code",
   "execution_count": 29,
   "id": "641d5726",
   "metadata": {},
   "outputs": [],
   "source": [
    "edad = 33 #Creamos un objeto, llamado 'edad' que toma valor 33"
   ]
  },
  {
   "cell_type": "markdown",
   "id": "3a94b81d",
   "metadata": {},
   "source": [
    "Noten que la variable *edad* está asociada a un valor, 33. Ahora podemos hacer uso del número 33 a través de su \"nombre\", que es \"edad\"."
   ]
  },
  {
   "cell_type": "code",
   "execution_count": 30,
   "id": "78781403",
   "metadata": {},
   "outputs": [
    {
     "data": {
      "text/plain": [
       "33"
      ]
     },
     "execution_count": 30,
     "metadata": {},
     "output_type": "execute_result"
    }
   ],
   "source": [
    "edad"
   ]
  },
  {
   "cell_type": "code",
   "execution_count": 31,
   "id": "51b68dd6",
   "metadata": {},
   "outputs": [
    {
     "name": "stdout",
     "output_type": "stream",
     "text": [
      "33\n"
     ]
    }
   ],
   "source": [
    "print(edad) #print es una función primitiva de python que permite imprimir en pantalla cierta información."
   ]
  },
  {
   "cell_type": "markdown",
   "id": "f96c5e99",
   "metadata": {},
   "source": [
    "Supongamos que Ana tiene 33 años, y queremos saber cuántos años tendrá dentro de 5 años"
   ]
  },
  {
   "cell_type": "code",
   "execution_count": 32,
   "id": "7a9d7ded",
   "metadata": {},
   "outputs": [
    {
     "data": {
      "text/plain": [
       "38"
      ]
     },
     "execution_count": 32,
     "metadata": {},
     "output_type": "execute_result"
    }
   ],
   "source": [
    "edad + 5"
   ]
  },
  {
   "cell_type": "code",
   "execution_count": 33,
   "id": "65d67af8",
   "metadata": {},
   "outputs": [
    {
     "data": {
      "text/plain": [
       "int"
      ]
     },
     "execution_count": 33,
     "metadata": {},
     "output_type": "execute_result"
    }
   ],
   "source": [
    "type(edad)"
   ]
  },
  {
   "cell_type": "code",
   "execution_count": 15,
   "id": "a5007b37",
   "metadata": {},
   "outputs": [
    {
     "ename": "TypeError",
     "evalue": "can only concatenate str (not \"int\") to str",
     "output_type": "error",
     "traceback": [
      "\u001b[1;31m---------------------------------------------------------------------------\u001b[0m",
      "\u001b[1;31mTypeError\u001b[0m                                 Traceback (most recent call last)",
      "\u001b[1;32mC:\\Users\\BGUERE~1\\AppData\\Local\\Temp/ipykernel_15412/973900402.py\u001b[0m in \u001b[0;36m<module>\u001b[1;34m\u001b[0m\n\u001b[1;32m----> 1\u001b[1;33m \u001b[1;34m\"Tengo \"\u001b[0m \u001b[1;33m+\u001b[0m \u001b[0medad\u001b[0m \u001b[1;33m+\u001b[0m \u001b[1;34m\" años\"\u001b[0m\u001b[1;33m\u001b[0m\u001b[1;33m\u001b[0m\u001b[0m\n\u001b[0m",
      "\u001b[1;31mTypeError\u001b[0m: can only concatenate str (not \"int\") to str"
     ]
    }
   ],
   "source": [
    "\"Tengo \" + edad + \" años\""
   ]
  },
  {
   "cell_type": "markdown",
   "id": "5996bf39",
   "metadata": {},
   "source": [
    "¿Por qué da error? Exacto! Porque edad es una variable integer, y no puede ser concatenada con texto, ¿cómo lo corregimos?"
   ]
  },
  {
   "cell_type": "code",
   "execution_count": 17,
   "id": "19b8fbd2",
   "metadata": {},
   "outputs": [
    {
     "data": {
      "text/plain": [
       "'Tengo 33 años'"
      ]
     },
     "execution_count": 17,
     "metadata": {},
     "output_type": "execute_result"
    }
   ],
   "source": [
    "\"Tengo \" + str(edad) + \" años\""
   ]
  },
  {
   "cell_type": "markdown",
   "id": "184327e9",
   "metadata": {},
   "source": [
    "Noten que podemos encadenar funciones también!"
   ]
  },
  {
   "cell_type": "code",
   "execution_count": 34,
   "id": "5475f877",
   "metadata": {},
   "outputs": [
    {
     "data": {
      "text/plain": [
       "2"
      ]
     },
     "execution_count": 34,
     "metadata": {},
     "output_type": "execute_result"
    }
   ],
   "source": [
    "len(str(edad + 5))"
   ]
  },
  {
   "cell_type": "markdown",
   "id": "fec9c92c",
   "metadata": {},
   "source": [
    "¿Qué hicimos? A la variable edad le sumamos 5; luego lo convertimos en un string; y finalmente contamos la cantidad de caracteres que tiene ese string."
   ]
  },
  {
   "cell_type": "markdown",
   "id": "0dd635af",
   "metadata": {},
   "source": [
    "### Nuestro primer programa"
   ]
  },
  {
   "cell_type": "markdown",
   "id": "9b0d952b",
   "metadata": {},
   "source": [
    "Intentaremos crear una rutina muy simple de preguntas y respuestas con el usuario que está frente a la computadora, es decir: Uds!"
   ]
  },
  {
   "cell_type": "code",
   "execution_count": 35,
   "id": "112a60e5",
   "metadata": {},
   "outputs": [
    {
     "name": "stdout",
     "output_type": "stream",
     "text": [
      "Hola!\n",
      "Me dirías tu nombre?\n",
      "Sofia\n",
      "Qué gusto conocerte Sofia\n",
      "Tu nombre tiene 5 letras\n",
      "¿Cuántos años tienes?\n",
      "59\n",
      "Tendrás 64 dentro de 5 años.\n",
      "\n"
     ]
    },
    {
     "data": {
      "text/plain": [
       "''"
      ]
     },
     "execution_count": 35,
     "metadata": {},
     "output_type": "execute_result"
    }
   ],
   "source": [
    "print(\"Hola!\")\n",
    "print(\"Me dirías tu nombre?\") \n",
    "nombre = input()\n",
    "print(\"Qué gusto conocerte \" + nombre)\n",
    "print(\"Tu nombre tiene \" + str(len(nombre)) + \" letras\")\n",
    "print(\"¿Cuántos años tienes?\")\n",
    "edad = input()\n",
    "print(\"Tendrás \"+ str(int(edad) + 5) + \" dentro de 5 años.\")\n",
    "input()"
   ]
  },
  {
   "cell_type": "markdown",
   "id": "1d8c10f9",
   "metadata": {},
   "source": [
    "¿qué hizo este programa? Interatuó con el usuario, preguntándole su nombre y asombrándolo con una operación matemática.\\\n",
    "Noten que cuando devolvió la edad que el usuario tendrá dentro de 5 años, debió convertir la variable \"edad\" a integer, para luego sumarle 5 años y finalmente volverlo a clasificar como \"string\" y poder así concatenerlo con otro texto, ¿se dan cuenta por qué?"
   ]
  },
  {
   "cell_type": "markdown",
   "id": "1e4894cf",
   "metadata": {},
   "source": [
    "### Más tipos de datos"
   ]
  },
  {
   "cell_type": "markdown",
   "id": "255ec5b0",
   "metadata": {},
   "source": [
    "En Python existen otros tipos de datos que permiten almacenar valores; y de hecho, algunos de ellos permiten almacenar múltiples datos a la vez."
   ]
  },
  {
   "cell_type": "markdown",
   "id": "ee6c0cb1",
   "metadata": {},
   "source": [
    "**Listas**\n",
    "Las listas, como el nombre indica permite almacenar valores (que pueden ser string, floats, integers, boolean).\\\n",
    "Se identifican porque están escritas entre corchetes, '[]'\\\n",
    "Los elementos que se almacenan en una lista se llaman \"items\", y se separan por comas.\\\n",
    "Cada item tiene una posición, \"índice\". Y esa posición se numera de izquierda a derecha arrancando por 0 (y sumando de a 1). O de derecha a izquierda, empezando por -1 (y restando de a 1).\n"
   ]
  },
  {
   "cell_type": "code",
   "execution_count": 36,
   "id": "0a17b418",
   "metadata": {},
   "outputs": [
    {
     "data": {
      "text/plain": [
       "[4, 5, 6, 7]"
      ]
     },
     "execution_count": 36,
     "metadata": {},
     "output_type": "execute_result"
    }
   ],
   "source": [
    "[4, 5, 6, 7]"
   ]
  },
  {
   "cell_type": "markdown",
   "id": "124b0ee5",
   "metadata": {},
   "source": [
    "Las listas pueden almacenarse con un nombre:"
   ]
  },
  {
   "cell_type": "code",
   "execution_count": 37,
   "id": "6be61163",
   "metadata": {},
   "outputs": [
    {
     "name": "stdout",
     "output_type": "stream",
     "text": [
      "[10, 15, 'Brenda', 'Marcos']\n"
     ]
    }
   ],
   "source": [
    "lista1 = [10, 15, \"Brenda\", \"Marcos\"] ; print(lista1)"
   ]
  },
  {
   "cell_type": "markdown",
   "id": "0fa8c009",
   "metadata": {},
   "source": [
    "Podemos acceder a los elementos de la lista (items):la sintaxis es lista[idx] donde idx es el número de índice"
   ]
  },
  {
   "cell_type": "code",
   "execution_count": 38,
   "id": "df617151",
   "metadata": {},
   "outputs": [
    {
     "data": {
      "text/plain": [
       "10"
      ]
     },
     "execution_count": 38,
     "metadata": {},
     "output_type": "execute_result"
    }
   ],
   "source": [
    "lista1[0]"
   ]
  },
  {
   "cell_type": "code",
   "execution_count": 39,
   "id": "798031df",
   "metadata": {},
   "outputs": [
    {
     "data": {
      "text/plain": [
       "'Marcos'"
      ]
     },
     "execution_count": 39,
     "metadata": {},
     "output_type": "execute_result"
    }
   ],
   "source": [
    "lista1[-1]"
   ]
  },
  {
   "cell_type": "code",
   "execution_count": 40,
   "id": "025493dc",
   "metadata": {},
   "outputs": [
    {
     "data": {
      "text/plain": [
       "'Marcos'"
      ]
     },
     "execution_count": 40,
     "metadata": {},
     "output_type": "execute_result"
    }
   ],
   "source": [
    "lista1[3]"
   ]
  },
  {
   "cell_type": "code",
   "execution_count": 42,
   "id": "3e659d89",
   "metadata": {},
   "outputs": [
    {
     "data": {
      "text/plain": [
       "[10, 15]"
      ]
     },
     "execution_count": 42,
     "metadata": {},
     "output_type": "execute_result"
    }
   ],
   "source": [
    "lista1[0:2]"
   ]
  },
  {
   "cell_type": "code",
   "execution_count": 45,
   "id": "e003e7af",
   "metadata": {},
   "outputs": [
    {
     "data": {
      "text/plain": [
       "['Brenda', 'Marcos']"
      ]
     },
     "execution_count": 45,
     "metadata": {},
     "output_type": "execute_result"
    }
   ],
   "source": [
    "lista1[2:]"
   ]
  },
  {
   "cell_type": "code",
   "execution_count": 47,
   "id": "5aa82159",
   "metadata": {},
   "outputs": [
    {
     "data": {
      "text/plain": [
       "[10, 15]"
      ]
     },
     "execution_count": 47,
     "metadata": {},
     "output_type": "execute_result"
    }
   ],
   "source": [
    "lista1[0:2]"
   ]
  },
  {
   "cell_type": "code",
   "execution_count": 48,
   "id": "481d91f7",
   "metadata": {},
   "outputs": [
    {
     "data": {
      "text/plain": [
       "['Brenda', 'Marcos']"
      ]
     },
     "execution_count": 48,
     "metadata": {},
     "output_type": "execute_result"
    }
   ],
   "source": [
    "lista1[-2:]"
   ]
  },
  {
   "cell_type": "markdown",
   "id": "ae6bfbd0",
   "metadata": {},
   "source": [
    "Noten que cada item tiene 2 índices posibles. Por ejemplo, el elemento \"Marcos\" tiene índice 3 y también índice -1."
   ]
  },
  {
   "cell_type": "markdown",
   "id": "86c5a03e",
   "metadata": {},
   "source": [
    "**Operaciones con listas**"
   ]
  },
  {
   "cell_type": "code",
   "execution_count": 49,
   "id": "02aec865",
   "metadata": {},
   "outputs": [
    {
     "data": {
      "text/plain": [
       "4"
      ]
     },
     "execution_count": 49,
     "metadata": {},
     "output_type": "execute_result"
    }
   ],
   "source": [
    "len(lista1) #Cuenta la cantidad de elementos que hay en la lista"
   ]
  },
  {
   "cell_type": "code",
   "execution_count": 50,
   "id": "a8430411",
   "metadata": {},
   "outputs": [],
   "source": [
    "lista0 = [1, 2, 3, 4]"
   ]
  },
  {
   "cell_type": "code",
   "execution_count": 51,
   "id": "ca0bf4d0",
   "metadata": {},
   "outputs": [
    {
     "data": {
      "text/plain": [
       "10"
      ]
     },
     "execution_count": 51,
     "metadata": {},
     "output_type": "execute_result"
    }
   ],
   "source": [
    "sum(lista0) #Cuando la lista contiene sólo números puede hacer operaciones matemáticas simples"
   ]
  },
  {
   "cell_type": "code",
   "execution_count": 52,
   "id": "0384d457",
   "metadata": {},
   "outputs": [
    {
     "data": {
      "text/plain": [
       "4"
      ]
     },
     "execution_count": 52,
     "metadata": {},
     "output_type": "execute_result"
    }
   ],
   "source": [
    "max(lista0)"
   ]
  },
  {
   "cell_type": "code",
   "execution_count": 53,
   "id": "a3a170cd",
   "metadata": {},
   "outputs": [
    {
     "data": {
      "text/plain": [
       "1"
      ]
     },
     "execution_count": 53,
     "metadata": {},
     "output_type": "execute_result"
    }
   ],
   "source": [
    "min(lista0)"
   ]
  },
  {
   "cell_type": "code",
   "execution_count": 54,
   "id": "2f6784b8",
   "metadata": {},
   "outputs": [
    {
     "data": {
      "text/plain": [
       "[1, 2, 3, 4, 1, 2, 3, 4]"
      ]
     },
     "execution_count": 54,
     "metadata": {},
     "output_type": "execute_result"
    }
   ],
   "source": [
    "lista0 *2 #Duplica la lista"
   ]
  },
  {
   "cell_type": "markdown",
   "id": "70dce797",
   "metadata": {},
   "source": [
    "Podemos cambiar los elementos de una lista"
   ]
  },
  {
   "cell_type": "code",
   "execution_count": 55,
   "id": "8a5cd1d2",
   "metadata": {},
   "outputs": [
    {
     "data": {
      "text/plain": [
       "[1, 2, 3, 4]"
      ]
     },
     "execution_count": 55,
     "metadata": {},
     "output_type": "execute_result"
    }
   ],
   "source": [
    "lista0"
   ]
  },
  {
   "cell_type": "code",
   "execution_count": 31,
   "id": "59c7ac68",
   "metadata": {},
   "outputs": [
    {
     "data": {
      "text/plain": [
       "[1, 2, 50, 4]"
      ]
     },
     "execution_count": 31,
     "metadata": {},
     "output_type": "execute_result"
    }
   ],
   "source": [
    "lista0[2] = 50 ; lista0 #Noten que cambiamos el item cuyo índice es 2, por un 50"
   ]
  },
  {
   "cell_type": "markdown",
   "id": "f02d5423",
   "metadata": {},
   "source": [
    "Podemos encontrar el índice de un elemento presente en una lista. Supongamos que queremos saber en qué posición está el nro 1:"
   ]
  },
  {
   "cell_type": "code",
   "execution_count": 56,
   "id": "dbfc37d2",
   "metadata": {},
   "outputs": [
    {
     "data": {
      "text/plain": [
       "0"
      ]
     },
     "execution_count": 56,
     "metadata": {},
     "output_type": "execute_result"
    }
   ],
   "source": [
    "lista0.index(1)"
   ]
  },
  {
   "cell_type": "code",
   "execution_count": 57,
   "id": "fa675371",
   "metadata": {},
   "outputs": [
    {
     "data": {
      "text/plain": [
       "2"
      ]
     },
     "execution_count": 57,
     "metadata": {},
     "output_type": "execute_result"
    }
   ],
   "source": [
    "lista1.index(\"Brenda\")"
   ]
  },
  {
   "cell_type": "code",
   "execution_count": 58,
   "id": "c25f7509",
   "metadata": {},
   "outputs": [
    {
     "data": {
      "text/plain": [
       "[1, 2, 3, 4]"
      ]
     },
     "execution_count": 58,
     "metadata": {},
     "output_type": "execute_result"
    }
   ],
   "source": [
    "lista0.sort() ; lista0"
   ]
  },
  {
   "cell_type": "markdown",
   "id": "2163febf",
   "metadata": {},
   "source": [
    "**DataFrames**\n",
    "Los dataframe son un objeto de Pandas. Pandas es una librería muy conocida de Python (para usarla primero hay que instalarla) que permite manipular datos tabulados.\\\n",
    "Un dataframe es una estructura de datos de dos dimensiones que permite almacenar datos de distinto tipo (string, integer, float, etc) en columnas. Es similar a una hoja de cálculo de Excel, o un data.frame de R. Cada elemento tiene un índice bidimensional, como en las matrices. Y al igual que con las listas, los índices comienzan a contar desde el 0."
   ]
  },
  {
   "cell_type": "markdown",
   "id": "10338dd6",
   "metadata": {},
   "source": [
    "Para poder utilizar los dataframes primero debemos instalar la librería de pandas.\\\n",
    "El que no lo haya hecho nunca, debe ir al \"cmd\" y escribir: \"pip3 install pandas\"\n"
   ]
  },
  {
   "cell_type": "code",
   "execution_count": 59,
   "id": "25f5996b",
   "metadata": {},
   "outputs": [],
   "source": [
    "import pandas as pd"
   ]
  },
  {
   "cell_type": "code",
   "execution_count": 73,
   "id": "f7978492",
   "metadata": {},
   "outputs": [],
   "source": [
    "lista1 = [['ARG', \"CABA\"],\n",
    "         ['BRA', \"Brasilia\"],\n",
    "         ['COL', \"Bogotá\"],\n",
    "         ['PER', \"Lima\"]]"
   ]
  },
  {
   "cell_type": "code",
   "execution_count": 74,
   "id": "c69310b6",
   "metadata": {},
   "outputs": [
    {
     "data": {
      "text/plain": [
       "[['ARG', 'CABA'], ['BRA', 'Brasilia'], ['COL', 'Bogotá'], ['PER', 'Lima']]"
      ]
     },
     "execution_count": 74,
     "metadata": {},
     "output_type": "execute_result"
    }
   ],
   "source": [
    "lista1"
   ]
  },
  {
   "cell_type": "code",
   "execution_count": 75,
   "id": "38405b51",
   "metadata": {},
   "outputs": [],
   "source": [
    "df1 = pd.DataFrame(lista1, columns = ['Pais', 'Ciudad'])"
   ]
  },
  {
   "cell_type": "code",
   "execution_count": 76,
   "id": "f87f130d",
   "metadata": {},
   "outputs": [
    {
     "data": {
      "text/html": [
       "<div>\n",
       "<style scoped>\n",
       "    .dataframe tbody tr th:only-of-type {\n",
       "        vertical-align: middle;\n",
       "    }\n",
       "\n",
       "    .dataframe tbody tr th {\n",
       "        vertical-align: top;\n",
       "    }\n",
       "\n",
       "    .dataframe thead th {\n",
       "        text-align: right;\n",
       "    }\n",
       "</style>\n",
       "<table border=\"1\" class=\"dataframe\">\n",
       "  <thead>\n",
       "    <tr style=\"text-align: right;\">\n",
       "      <th></th>\n",
       "      <th>Pais</th>\n",
       "      <th>Ciudad</th>\n",
       "    </tr>\n",
       "  </thead>\n",
       "  <tbody>\n",
       "    <tr>\n",
       "      <th>0</th>\n",
       "      <td>ARG</td>\n",
       "      <td>CABA</td>\n",
       "    </tr>\n",
       "    <tr>\n",
       "      <th>1</th>\n",
       "      <td>BRA</td>\n",
       "      <td>Brasilia</td>\n",
       "    </tr>\n",
       "    <tr>\n",
       "      <th>2</th>\n",
       "      <td>COL</td>\n",
       "      <td>Bogotá</td>\n",
       "    </tr>\n",
       "    <tr>\n",
       "      <th>3</th>\n",
       "      <td>PER</td>\n",
       "      <td>Lima</td>\n",
       "    </tr>\n",
       "  </tbody>\n",
       "</table>\n",
       "</div>"
      ],
      "text/plain": [
       "  Pais    Ciudad\n",
       "0  ARG      CABA\n",
       "1  BRA  Brasilia\n",
       "2  COL    Bogotá\n",
       "3  PER      Lima"
      ]
     },
     "execution_count": 76,
     "metadata": {},
     "output_type": "execute_result"
    }
   ],
   "source": [
    "df1"
   ]
  },
  {
   "cell_type": "markdown",
   "id": "692e7a37",
   "metadata": {},
   "source": [
    "El objeto lista1 es una lista de listas: cada elemento de la lista es a su vez una lista de 2 elementos.\\\n",
    "El objeto \"df1\" es un DataFrame que creamos gracias a la librería pandas (\"pd\"). Convertimos la lista1 en un dataframe. Cada elemento de esa lista se convirtió en una fila con dos columnas: País, y Ciudad."
   ]
  },
  {
   "cell_type": "markdown",
   "id": "032cab8d",
   "metadata": {},
   "source": [
    "**Operaciones con DataFrames** "
   ]
  },
  {
   "cell_type": "markdown",
   "id": "5ef797d1",
   "metadata": {},
   "source": [
    "Existen diversas operaciones que se pueden hacer en un dataframe."
   ]
  },
  {
   "cell_type": "markdown",
   "id": "a0457cbe",
   "metadata": {},
   "source": [
    "*Agregar una columna*"
   ]
  },
  {
   "cell_type": "code",
   "execution_count": 77,
   "id": "8865e0da",
   "metadata": {},
   "outputs": [
    {
     "data": {
      "text/html": [
       "<div>\n",
       "<style scoped>\n",
       "    .dataframe tbody tr th:only-of-type {\n",
       "        vertical-align: middle;\n",
       "    }\n",
       "\n",
       "    .dataframe tbody tr th {\n",
       "        vertical-align: top;\n",
       "    }\n",
       "\n",
       "    .dataframe thead th {\n",
       "        text-align: right;\n",
       "    }\n",
       "</style>\n",
       "<table border=\"1\" class=\"dataframe\">\n",
       "  <thead>\n",
       "    <tr style=\"text-align: right;\">\n",
       "      <th></th>\n",
       "      <th>Pais</th>\n",
       "      <th>Ciudad</th>\n",
       "      <th>Hab</th>\n",
       "    </tr>\n",
       "  </thead>\n",
       "  <tbody>\n",
       "    <tr>\n",
       "      <th>0</th>\n",
       "      <td>ARG</td>\n",
       "      <td>CABA</td>\n",
       "      <td>45.1</td>\n",
       "    </tr>\n",
       "    <tr>\n",
       "      <th>1</th>\n",
       "      <td>BRA</td>\n",
       "      <td>Brasilia</td>\n",
       "      <td>212.6</td>\n",
       "    </tr>\n",
       "    <tr>\n",
       "      <th>2</th>\n",
       "      <td>COL</td>\n",
       "      <td>Bogotá</td>\n",
       "      <td>50.9</td>\n",
       "    </tr>\n",
       "    <tr>\n",
       "      <th>3</th>\n",
       "      <td>PER</td>\n",
       "      <td>Lima</td>\n",
       "      <td>33.1</td>\n",
       "    </tr>\n",
       "  </tbody>\n",
       "</table>\n",
       "</div>"
      ],
      "text/plain": [
       "  Pais    Ciudad    Hab\n",
       "0  ARG      CABA   45.1\n",
       "1  BRA  Brasilia  212.6\n",
       "2  COL    Bogotá   50.9\n",
       "3  PER      Lima   33.1"
      ]
     },
     "execution_count": 77,
     "metadata": {},
     "output_type": "execute_result"
    }
   ],
   "source": [
    "df1['Hab'] = [45.1, 212.6, 50.9, 33.1] ; df1"
   ]
  },
  {
   "cell_type": "markdown",
   "id": "c691469e",
   "metadata": {},
   "source": [
    "*Ordenar los elementos del DataFrame de mayor a menor*"
   ]
  },
  {
   "cell_type": "code",
   "execution_count": 78,
   "id": "c76ef39c",
   "metadata": {},
   "outputs": [
    {
     "data": {
      "text/html": [
       "<div>\n",
       "<style scoped>\n",
       "    .dataframe tbody tr th:only-of-type {\n",
       "        vertical-align: middle;\n",
       "    }\n",
       "\n",
       "    .dataframe tbody tr th {\n",
       "        vertical-align: top;\n",
       "    }\n",
       "\n",
       "    .dataframe thead th {\n",
       "        text-align: right;\n",
       "    }\n",
       "</style>\n",
       "<table border=\"1\" class=\"dataframe\">\n",
       "  <thead>\n",
       "    <tr style=\"text-align: right;\">\n",
       "      <th></th>\n",
       "      <th>Pais</th>\n",
       "      <th>Ciudad</th>\n",
       "      <th>Hab</th>\n",
       "    </tr>\n",
       "  </thead>\n",
       "  <tbody>\n",
       "    <tr>\n",
       "      <th>0</th>\n",
       "      <td>ARG</td>\n",
       "      <td>CABA</td>\n",
       "      <td>45.1</td>\n",
       "    </tr>\n",
       "    <tr>\n",
       "      <th>1</th>\n",
       "      <td>BRA</td>\n",
       "      <td>Brasilia</td>\n",
       "      <td>212.6</td>\n",
       "    </tr>\n",
       "    <tr>\n",
       "      <th>2</th>\n",
       "      <td>COL</td>\n",
       "      <td>Bogotá</td>\n",
       "      <td>50.9</td>\n",
       "    </tr>\n",
       "    <tr>\n",
       "      <th>3</th>\n",
       "      <td>PER</td>\n",
       "      <td>Lima</td>\n",
       "      <td>33.1</td>\n",
       "    </tr>\n",
       "  </tbody>\n",
       "</table>\n",
       "</div>"
      ],
      "text/plain": [
       "  Pais    Ciudad    Hab\n",
       "0  ARG      CABA   45.1\n",
       "1  BRA  Brasilia  212.6\n",
       "2  COL    Bogotá   50.9\n",
       "3  PER      Lima   33.1"
      ]
     },
     "execution_count": 78,
     "metadata": {},
     "output_type": "execute_result"
    }
   ],
   "source": [
    "df1"
   ]
  },
  {
   "cell_type": "code",
   "execution_count": 79,
   "id": "467acca9",
   "metadata": {},
   "outputs": [
    {
     "data": {
      "text/html": [
       "<div>\n",
       "<style scoped>\n",
       "    .dataframe tbody tr th:only-of-type {\n",
       "        vertical-align: middle;\n",
       "    }\n",
       "\n",
       "    .dataframe tbody tr th {\n",
       "        vertical-align: top;\n",
       "    }\n",
       "\n",
       "    .dataframe thead th {\n",
       "        text-align: right;\n",
       "    }\n",
       "</style>\n",
       "<table border=\"1\" class=\"dataframe\">\n",
       "  <thead>\n",
       "    <tr style=\"text-align: right;\">\n",
       "      <th></th>\n",
       "      <th>Pais</th>\n",
       "      <th>Ciudad</th>\n",
       "      <th>Hab</th>\n",
       "    </tr>\n",
       "  </thead>\n",
       "  <tbody>\n",
       "    <tr>\n",
       "      <th>1</th>\n",
       "      <td>BRA</td>\n",
       "      <td>Brasilia</td>\n",
       "      <td>212.6</td>\n",
       "    </tr>\n",
       "    <tr>\n",
       "      <th>2</th>\n",
       "      <td>COL</td>\n",
       "      <td>Bogotá</td>\n",
       "      <td>50.9</td>\n",
       "    </tr>\n",
       "    <tr>\n",
       "      <th>0</th>\n",
       "      <td>ARG</td>\n",
       "      <td>CABA</td>\n",
       "      <td>45.1</td>\n",
       "    </tr>\n",
       "    <tr>\n",
       "      <th>3</th>\n",
       "      <td>PER</td>\n",
       "      <td>Lima</td>\n",
       "      <td>33.1</td>\n",
       "    </tr>\n",
       "  </tbody>\n",
       "</table>\n",
       "</div>"
      ],
      "text/plain": [
       "  Pais    Ciudad    Hab\n",
       "1  BRA  Brasilia  212.6\n",
       "2  COL    Bogotá   50.9\n",
       "0  ARG      CABA   45.1\n",
       "3  PER      Lima   33.1"
      ]
     },
     "execution_count": 79,
     "metadata": {},
     "output_type": "execute_result"
    }
   ],
   "source": [
    "df1.sort_values(by = \"Hab\", ascending = False)"
   ]
  },
  {
   "cell_type": "code",
   "execution_count": 81,
   "id": "853218e3",
   "metadata": {},
   "outputs": [
    {
     "data": {
      "text/html": [
       "<div>\n",
       "<style scoped>\n",
       "    .dataframe tbody tr th:only-of-type {\n",
       "        vertical-align: middle;\n",
       "    }\n",
       "\n",
       "    .dataframe tbody tr th {\n",
       "        vertical-align: top;\n",
       "    }\n",
       "\n",
       "    .dataframe thead th {\n",
       "        text-align: right;\n",
       "    }\n",
       "</style>\n",
       "<table border=\"1\" class=\"dataframe\">\n",
       "  <thead>\n",
       "    <tr style=\"text-align: right;\">\n",
       "      <th></th>\n",
       "      <th>Pais</th>\n",
       "      <th>Ciudad</th>\n",
       "      <th>Hab</th>\n",
       "    </tr>\n",
       "  </thead>\n",
       "  <tbody>\n",
       "    <tr>\n",
       "      <th>1</th>\n",
       "      <td>BRA</td>\n",
       "      <td>Brasilia</td>\n",
       "      <td>212.6</td>\n",
       "    </tr>\n",
       "    <tr>\n",
       "      <th>2</th>\n",
       "      <td>COL</td>\n",
       "      <td>Bogotá</td>\n",
       "      <td>50.9</td>\n",
       "    </tr>\n",
       "    <tr>\n",
       "      <th>0</th>\n",
       "      <td>ARG</td>\n",
       "      <td>CABA</td>\n",
       "      <td>45.1</td>\n",
       "    </tr>\n",
       "    <tr>\n",
       "      <th>3</th>\n",
       "      <td>PER</td>\n",
       "      <td>Lima</td>\n",
       "      <td>33.1</td>\n",
       "    </tr>\n",
       "  </tbody>\n",
       "</table>\n",
       "</div>"
      ],
      "text/plain": [
       "  Pais    Ciudad    Hab\n",
       "1  BRA  Brasilia  212.6\n",
       "2  COL    Bogotá   50.9\n",
       "0  ARG      CABA   45.1\n",
       "3  PER      Lima   33.1"
      ]
     },
     "execution_count": 81,
     "metadata": {},
     "output_type": "execute_result"
    }
   ],
   "source": [
    "df1 = df1.sort_values(by = \"Hab\", ascending = False) ; df1"
   ]
  },
  {
   "cell_type": "markdown",
   "id": "9f2c2af2",
   "metadata": {},
   "source": [
    "*Sumar, Restar, máximo, mínimo*"
   ]
  },
  {
   "cell_type": "code",
   "execution_count": 82,
   "id": "72de0e60",
   "metadata": {},
   "outputs": [
    {
     "data": {
      "text/plain": [
       "341.70000000000005"
      ]
     },
     "execution_count": 82,
     "metadata": {},
     "output_type": "execute_result"
    }
   ],
   "source": [
    "sum(df1['Hab'])"
   ]
  },
  {
   "cell_type": "code",
   "execution_count": 83,
   "id": "b5486edf",
   "metadata": {},
   "outputs": [
    {
     "data": {
      "text/plain": [
       "33.1"
      ]
     },
     "execution_count": 83,
     "metadata": {},
     "output_type": "execute_result"
    }
   ],
   "source": [
    "min(df1['Hab'])"
   ]
  },
  {
   "cell_type": "code",
   "execution_count": 84,
   "id": "a8278ff8",
   "metadata": {},
   "outputs": [
    {
     "data": {
      "text/plain": [
       "212.6"
      ]
     },
     "execution_count": 84,
     "metadata": {},
     "output_type": "execute_result"
    }
   ],
   "source": [
    "max(df1['Hab'])"
   ]
  },
  {
   "cell_type": "code",
   "execution_count": 86,
   "id": "7d8ce32d",
   "metadata": {},
   "outputs": [
    {
     "data": {
      "text/plain": [
       "85.42500000000001"
      ]
     },
     "execution_count": 86,
     "metadata": {},
     "output_type": "execute_result"
    }
   ],
   "source": [
    "df1['Hab'].mean()"
   ]
  },
  {
   "cell_type": "code",
   "execution_count": 87,
   "id": "1f7ea9e0",
   "metadata": {},
   "outputs": [
    {
     "data": {
      "text/plain": [
       "212.6"
      ]
     },
     "execution_count": 87,
     "metadata": {},
     "output_type": "execute_result"
    }
   ],
   "source": [
    "df1['Hab'].max()"
   ]
  },
  {
   "cell_type": "code",
   "execution_count": 91,
   "id": "ab9ec279",
   "metadata": {},
   "outputs": [
    {
     "data": {
      "text/plain": [
       "212.6"
      ]
     },
     "execution_count": 91,
     "metadata": {},
     "output_type": "execute_result"
    }
   ],
   "source": [
    "df1.iloc[0, 2]"
   ]
  },
  {
   "cell_type": "code",
   "execution_count": 100,
   "id": "70ac6281",
   "metadata": {},
   "outputs": [],
   "source": [
    "mean_hab = df1['Hab'].mean()"
   ]
  },
  {
   "cell_type": "code",
   "execution_count": 102,
   "id": "1475f853",
   "metadata": {},
   "outputs": [
    {
     "data": {
      "text/html": [
       "<div>\n",
       "<style scoped>\n",
       "    .dataframe tbody tr th:only-of-type {\n",
       "        vertical-align: middle;\n",
       "    }\n",
       "\n",
       "    .dataframe tbody tr th {\n",
       "        vertical-align: top;\n",
       "    }\n",
       "\n",
       "    .dataframe thead th {\n",
       "        text-align: right;\n",
       "    }\n",
       "</style>\n",
       "<table border=\"1\" class=\"dataframe\">\n",
       "  <thead>\n",
       "    <tr style=\"text-align: right;\">\n",
       "      <th></th>\n",
       "      <th>Pais</th>\n",
       "      <th>Ciudad</th>\n",
       "      <th>Hab</th>\n",
       "    </tr>\n",
       "  </thead>\n",
       "  <tbody>\n",
       "    <tr>\n",
       "      <th>2</th>\n",
       "      <td>COL</td>\n",
       "      <td>Bogotá</td>\n",
       "      <td>50.9</td>\n",
       "    </tr>\n",
       "    <tr>\n",
       "      <th>0</th>\n",
       "      <td>ARG</td>\n",
       "      <td>CABA</td>\n",
       "      <td>45.1</td>\n",
       "    </tr>\n",
       "    <tr>\n",
       "      <th>3</th>\n",
       "      <td>PER</td>\n",
       "      <td>Lima</td>\n",
       "      <td>33.1</td>\n",
       "    </tr>\n",
       "  </tbody>\n",
       "</table>\n",
       "</div>"
      ],
      "text/plain": [
       "  Pais  Ciudad   Hab\n",
       "2  COL  Bogotá  50.9\n",
       "0  ARG    CABA  45.1\n",
       "3  PER    Lima  33.1"
      ]
     },
     "execution_count": 102,
     "metadata": {},
     "output_type": "execute_result"
    }
   ],
   "source": [
    "df1.loc[df1['Hab'] < mean_hab]"
   ]
  },
  {
   "cell_type": "markdown",
   "id": "2efab4f7",
   "metadata": {},
   "source": [
    "*Agregar otra columna*"
   ]
  },
  {
   "cell_type": "code",
   "execution_count": 47,
   "id": "94bbca3e",
   "metadata": {},
   "outputs": [
    {
     "data": {
      "text/html": [
       "<div>\n",
       "<style scoped>\n",
       "    .dataframe tbody tr th:only-of-type {\n",
       "        vertical-align: middle;\n",
       "    }\n",
       "\n",
       "    .dataframe tbody tr th {\n",
       "        vertical-align: top;\n",
       "    }\n",
       "\n",
       "    .dataframe thead th {\n",
       "        text-align: right;\n",
       "    }\n",
       "</style>\n",
       "<table border=\"1\" class=\"dataframe\">\n",
       "  <thead>\n",
       "    <tr style=\"text-align: right;\">\n",
       "      <th></th>\n",
       "      <th>Pais</th>\n",
       "      <th>Ciudad</th>\n",
       "      <th>Hab</th>\n",
       "    </tr>\n",
       "  </thead>\n",
       "  <tbody>\n",
       "    <tr>\n",
       "      <th>1</th>\n",
       "      <td>BRA</td>\n",
       "      <td>Brasilia</td>\n",
       "      <td>212.6</td>\n",
       "    </tr>\n",
       "    <tr>\n",
       "      <th>2</th>\n",
       "      <td>COL</td>\n",
       "      <td>Bogotá</td>\n",
       "      <td>50.9</td>\n",
       "    </tr>\n",
       "    <tr>\n",
       "      <th>0</th>\n",
       "      <td>ARG</td>\n",
       "      <td>CABA</td>\n",
       "      <td>45.1</td>\n",
       "    </tr>\n",
       "    <tr>\n",
       "      <th>3</th>\n",
       "      <td>PER</td>\n",
       "      <td>Lima</td>\n",
       "      <td>33.1</td>\n",
       "    </tr>\n",
       "  </tbody>\n",
       "</table>\n",
       "</div>"
      ],
      "text/plain": [
       "  Pais    Ciudad    Hab\n",
       "1  BRA  Brasilia  212.6\n",
       "2  COL    Bogotá   50.9\n",
       "0  ARG      CABA   45.1\n",
       "3  PER      Lima   33.1"
      ]
     },
     "execution_count": 47,
     "metadata": {},
     "output_type": "execute_result"
    }
   ],
   "source": [
    "df1"
   ]
  },
  {
   "cell_type": "code",
   "execution_count": 103,
   "id": "97a529b2",
   "metadata": {},
   "outputs": [],
   "source": [
    "df1['Sup'] = [8.515, 1.142, 2.792, 1.285]"
   ]
  },
  {
   "cell_type": "code",
   "execution_count": 119,
   "id": "a53b7449",
   "metadata": {},
   "outputs": [
    {
     "data": {
      "text/html": [
       "<div>\n",
       "<style scoped>\n",
       "    .dataframe tbody tr th:only-of-type {\n",
       "        vertical-align: middle;\n",
       "    }\n",
       "\n",
       "    .dataframe tbody tr th {\n",
       "        vertical-align: top;\n",
       "    }\n",
       "\n",
       "    .dataframe thead th {\n",
       "        text-align: right;\n",
       "    }\n",
       "</style>\n",
       "<table border=\"1\" class=\"dataframe\">\n",
       "  <thead>\n",
       "    <tr style=\"text-align: right;\">\n",
       "      <th></th>\n",
       "      <th>Pais</th>\n",
       "      <th>Ciudad</th>\n",
       "      <th>Hab</th>\n",
       "      <th>Sup</th>\n",
       "      <th>Hab_km2</th>\n",
       "    </tr>\n",
       "  </thead>\n",
       "  <tbody>\n",
       "    <tr>\n",
       "      <th>1</th>\n",
       "      <td>BRA</td>\n",
       "      <td>Brasilia</td>\n",
       "      <td>212.6</td>\n",
       "      <td>8.515</td>\n",
       "      <td>24.967704</td>\n",
       "    </tr>\n",
       "    <tr>\n",
       "      <th>2</th>\n",
       "      <td>COL</td>\n",
       "      <td>Bogotá</td>\n",
       "      <td>50.9</td>\n",
       "      <td>1.142</td>\n",
       "      <td>44.570928</td>\n",
       "    </tr>\n",
       "    <tr>\n",
       "      <th>0</th>\n",
       "      <td>ARG</td>\n",
       "      <td>CABA</td>\n",
       "      <td>45.1</td>\n",
       "      <td>2.792</td>\n",
       "      <td>16.153295</td>\n",
       "    </tr>\n",
       "    <tr>\n",
       "      <th>3</th>\n",
       "      <td>PER</td>\n",
       "      <td>Lima</td>\n",
       "      <td>33.1</td>\n",
       "      <td>1.285</td>\n",
       "      <td>25.758755</td>\n",
       "    </tr>\n",
       "  </tbody>\n",
       "</table>\n",
       "</div>"
      ],
      "text/plain": [
       "  Pais    Ciudad    Hab    Sup    Hab_km2\n",
       "1  BRA  Brasilia  212.6  8.515  24.967704\n",
       "2  COL    Bogotá   50.9  1.142  44.570928\n",
       "0  ARG      CABA   45.1  2.792  16.153295\n",
       "3  PER      Lima   33.1  1.285  25.758755"
      ]
     },
     "execution_count": 119,
     "metadata": {},
     "output_type": "execute_result"
    }
   ],
   "source": [
    "df1"
   ]
  },
  {
   "cell_type": "markdown",
   "id": "41120bfd",
   "metadata": {},
   "source": [
    "*Crear una columna a partir de otras dos*"
   ]
  },
  {
   "cell_type": "code",
   "execution_count": 105,
   "id": "6349f55a",
   "metadata": {},
   "outputs": [
    {
     "data": {
      "text/html": [
       "<div>\n",
       "<style scoped>\n",
       "    .dataframe tbody tr th:only-of-type {\n",
       "        vertical-align: middle;\n",
       "    }\n",
       "\n",
       "    .dataframe tbody tr th {\n",
       "        vertical-align: top;\n",
       "    }\n",
       "\n",
       "    .dataframe thead th {\n",
       "        text-align: right;\n",
       "    }\n",
       "</style>\n",
       "<table border=\"1\" class=\"dataframe\">\n",
       "  <thead>\n",
       "    <tr style=\"text-align: right;\">\n",
       "      <th></th>\n",
       "      <th>Pais</th>\n",
       "      <th>Ciudad</th>\n",
       "      <th>Hab</th>\n",
       "      <th>Sup</th>\n",
       "      <th>Hab_km2</th>\n",
       "    </tr>\n",
       "  </thead>\n",
       "  <tbody>\n",
       "    <tr>\n",
       "      <th>1</th>\n",
       "      <td>BRA</td>\n",
       "      <td>Brasilia</td>\n",
       "      <td>212.6</td>\n",
       "      <td>8.515</td>\n",
       "      <td>24.967704</td>\n",
       "    </tr>\n",
       "    <tr>\n",
       "      <th>2</th>\n",
       "      <td>COL</td>\n",
       "      <td>Bogotá</td>\n",
       "      <td>50.9</td>\n",
       "      <td>1.142</td>\n",
       "      <td>44.570928</td>\n",
       "    </tr>\n",
       "    <tr>\n",
       "      <th>0</th>\n",
       "      <td>ARG</td>\n",
       "      <td>CABA</td>\n",
       "      <td>45.1</td>\n",
       "      <td>2.792</td>\n",
       "      <td>16.153295</td>\n",
       "    </tr>\n",
       "    <tr>\n",
       "      <th>3</th>\n",
       "      <td>PER</td>\n",
       "      <td>Lima</td>\n",
       "      <td>33.1</td>\n",
       "      <td>1.285</td>\n",
       "      <td>25.758755</td>\n",
       "    </tr>\n",
       "  </tbody>\n",
       "</table>\n",
       "</div>"
      ],
      "text/plain": [
       "  Pais    Ciudad    Hab    Sup    Hab_km2\n",
       "1  BRA  Brasilia  212.6  8.515  24.967704\n",
       "2  COL    Bogotá   50.9  1.142  44.570928\n",
       "0  ARG      CABA   45.1  2.792  16.153295\n",
       "3  PER      Lima   33.1  1.285  25.758755"
      ]
     },
     "execution_count": 105,
     "metadata": {},
     "output_type": "execute_result"
    }
   ],
   "source": [
    "df1['Hab_km2'] = df1['Hab'] / df1['Sup'] ; df1"
   ]
  },
  {
   "cell_type": "markdown",
   "id": "625d063c",
   "metadata": {},
   "source": [
    "Así como podemos identificar índices en una lista a partir de los valores de los items, de manera equivalente podemos seleccionar elementos en un dataframe. Supongamos que queremos encontrar al país de nuestro dataframe que posee la mayor cantidad de habitantes"
   ]
  },
  {
   "cell_type": "code",
   "execution_count": 106,
   "id": "03aab4e0",
   "metadata": {},
   "outputs": [
    {
     "data": {
      "text/html": [
       "<div>\n",
       "<style scoped>\n",
       "    .dataframe tbody tr th:only-of-type {\n",
       "        vertical-align: middle;\n",
       "    }\n",
       "\n",
       "    .dataframe tbody tr th {\n",
       "        vertical-align: top;\n",
       "    }\n",
       "\n",
       "    .dataframe thead th {\n",
       "        text-align: right;\n",
       "    }\n",
       "</style>\n",
       "<table border=\"1\" class=\"dataframe\">\n",
       "  <thead>\n",
       "    <tr style=\"text-align: right;\">\n",
       "      <th></th>\n",
       "      <th>Pais</th>\n",
       "      <th>Ciudad</th>\n",
       "      <th>Hab</th>\n",
       "      <th>Sup</th>\n",
       "      <th>Hab_km2</th>\n",
       "    </tr>\n",
       "  </thead>\n",
       "  <tbody>\n",
       "    <tr>\n",
       "      <th>1</th>\n",
       "      <td>BRA</td>\n",
       "      <td>Brasilia</td>\n",
       "      <td>212.6</td>\n",
       "      <td>8.515</td>\n",
       "      <td>24.967704</td>\n",
       "    </tr>\n",
       "  </tbody>\n",
       "</table>\n",
       "</div>"
      ],
      "text/plain": [
       "  Pais    Ciudad    Hab    Sup    Hab_km2\n",
       "1  BRA  Brasilia  212.6  8.515  24.967704"
      ]
     },
     "execution_count": 106,
     "metadata": {},
     "output_type": "execute_result"
    }
   ],
   "source": [
    "df1.loc[df1['Hab'] == df1['Hab'].max()]"
   ]
  },
  {
   "cell_type": "markdown",
   "id": "d6bf4924",
   "metadata": {},
   "source": [
    "La sintaxis es simple: df1.loc[\"condición\"].\\\n",
    "Noten que el símbolo \"==\" se utiliza para evaluar si cierta condición es cierta o falsa."
   ]
  },
  {
   "cell_type": "markdown",
   "id": "d8015e65",
   "metadata": {},
   "source": [
    "Equivalentemente podríamos identificar los países que superan cierto umbral de densidad demográfica"
   ]
  },
  {
   "cell_type": "code",
   "execution_count": 107,
   "id": "84b5b9a9",
   "metadata": {},
   "outputs": [
    {
     "data": {
      "text/html": [
       "<div>\n",
       "<style scoped>\n",
       "    .dataframe tbody tr th:only-of-type {\n",
       "        vertical-align: middle;\n",
       "    }\n",
       "\n",
       "    .dataframe tbody tr th {\n",
       "        vertical-align: top;\n",
       "    }\n",
       "\n",
       "    .dataframe thead th {\n",
       "        text-align: right;\n",
       "    }\n",
       "</style>\n",
       "<table border=\"1\" class=\"dataframe\">\n",
       "  <thead>\n",
       "    <tr style=\"text-align: right;\">\n",
       "      <th></th>\n",
       "      <th>Pais</th>\n",
       "      <th>Ciudad</th>\n",
       "      <th>Hab</th>\n",
       "      <th>Sup</th>\n",
       "      <th>Hab_km2</th>\n",
       "    </tr>\n",
       "  </thead>\n",
       "  <tbody>\n",
       "    <tr>\n",
       "      <th>1</th>\n",
       "      <td>BRA</td>\n",
       "      <td>Brasilia</td>\n",
       "      <td>212.6</td>\n",
       "      <td>8.515</td>\n",
       "      <td>24.967704</td>\n",
       "    </tr>\n",
       "    <tr>\n",
       "      <th>2</th>\n",
       "      <td>COL</td>\n",
       "      <td>Bogotá</td>\n",
       "      <td>50.9</td>\n",
       "      <td>1.142</td>\n",
       "      <td>44.570928</td>\n",
       "    </tr>\n",
       "    <tr>\n",
       "      <th>3</th>\n",
       "      <td>PER</td>\n",
       "      <td>Lima</td>\n",
       "      <td>33.1</td>\n",
       "      <td>1.285</td>\n",
       "      <td>25.758755</td>\n",
       "    </tr>\n",
       "  </tbody>\n",
       "</table>\n",
       "</div>"
      ],
      "text/plain": [
       "  Pais    Ciudad    Hab    Sup    Hab_km2\n",
       "1  BRA  Brasilia  212.6  8.515  24.967704\n",
       "2  COL    Bogotá   50.9  1.142  44.570928\n",
       "3  PER      Lima   33.1  1.285  25.758755"
      ]
     },
     "execution_count": 107,
     "metadata": {},
     "output_type": "execute_result"
    }
   ],
   "source": [
    "df1.loc[df1['Hab_km2'] > 20]"
   ]
  },
  {
   "cell_type": "markdown",
   "id": "01717833",
   "metadata": {},
   "source": [
    "### Interacción con Microsoft Excel"
   ]
  },
  {
   "cell_type": "markdown",
   "id": "4bb083c5",
   "metadata": {},
   "source": [
    "**Leer archivos de excel**"
   ]
  },
  {
   "cell_type": "markdown",
   "id": "23fdf030",
   "metadata": {},
   "source": [
    "Existen muchos caminos para poder procesar archivos de Microsoft Excel en Python. Pandas tiene algunas funciones, pero no es la única. E incluso en Pandas hay, por lo menos, dos caminos alternativos:"
   ]
  },
  {
   "cell_type": "markdown",
   "id": "90959038",
   "metadata": {},
   "source": [
    "Supongamos que contamos con información (falsa) de las ventas de una heladería desde el año 2002 hasta el año 2021 inclusive. Esas ventas están almacenadas en un archivo de excel que debemos importar"
   ]
  },
  {
   "cell_type": "code",
   "execution_count": 108,
   "id": "680827e4",
   "metadata": {},
   "outputs": [],
   "source": [
    "import pandas as pd # No es necesario importar la librería cada vez que se la usa, se puede importar todo una vez al comienzo del código"
   ]
  },
  {
   "cell_type": "code",
   "execution_count": null,
   "id": "66d350bf",
   "metadata": {},
   "outputs": [],
   "source": [
    "#pip3 install openpyxl"
   ]
  },
  {
   "cell_type": "code",
   "execution_count": 110,
   "id": "249c1cf6",
   "metadata": {},
   "outputs": [],
   "source": [
    "helados = pd.read_excel(\"Problema3_Ventas.xlsx\")"
   ]
  },
  {
   "cell_type": "code",
   "execution_count": 111,
   "id": "de7965c2",
   "metadata": {},
   "outputs": [
    {
     "data": {
      "text/plain": [
       "pandas.core.frame.DataFrame"
      ]
     },
     "execution_count": 111,
     "metadata": {},
     "output_type": "execute_result"
    }
   ],
   "source": [
    "type(helados)"
   ]
  },
  {
   "cell_type": "code",
   "execution_count": 112,
   "id": "950d7f5b",
   "metadata": {},
   "outputs": [
    {
     "data": {
      "text/html": [
       "<div>\n",
       "<style scoped>\n",
       "    .dataframe tbody tr th:only-of-type {\n",
       "        vertical-align: middle;\n",
       "    }\n",
       "\n",
       "    .dataframe tbody tr th {\n",
       "        vertical-align: top;\n",
       "    }\n",
       "\n",
       "    .dataframe thead th {\n",
       "        text-align: right;\n",
       "    }\n",
       "</style>\n",
       "<table border=\"1\" class=\"dataframe\">\n",
       "  <thead>\n",
       "    <tr style=\"text-align: right;\">\n",
       "      <th></th>\n",
       "      <th>year</th>\n",
       "      <th>temporada</th>\n",
       "      <th>Ventas_mes</th>\n",
       "      <th>Precio_kg</th>\n",
       "      <th>IPC</th>\n",
       "    </tr>\n",
       "  </thead>\n",
       "  <tbody>\n",
       "    <tr>\n",
       "      <th>0</th>\n",
       "      <td>2002</td>\n",
       "      <td>v</td>\n",
       "      <td>280</td>\n",
       "      <td>50.872224</td>\n",
       "      <td>109.235503</td>\n",
       "    </tr>\n",
       "    <tr>\n",
       "      <th>1</th>\n",
       "      <td>2002</td>\n",
       "      <td>o</td>\n",
       "      <td>150</td>\n",
       "      <td>59.304621</td>\n",
       "      <td>129.962623</td>\n",
       "    </tr>\n",
       "    <tr>\n",
       "      <th>2</th>\n",
       "      <td>2002</td>\n",
       "      <td>i</td>\n",
       "      <td>100</td>\n",
       "      <td>62.262120</td>\n",
       "      <td>139.101298</td>\n",
       "    </tr>\n",
       "    <tr>\n",
       "      <th>3</th>\n",
       "      <td>2002</td>\n",
       "      <td>p</td>\n",
       "      <td>200</td>\n",
       "      <td>62.378845</td>\n",
       "      <td>140.377460</td>\n",
       "    </tr>\n",
       "    <tr>\n",
       "      <th>4</th>\n",
       "      <td>2003</td>\n",
       "      <td>v</td>\n",
       "      <td>301</td>\n",
       "      <td>62.324198</td>\n",
       "      <td>143.869441</td>\n",
       "    </tr>\n",
       "  </tbody>\n",
       "</table>\n",
       "</div>"
      ],
      "text/plain": [
       "   year temporada  Ventas_mes  Precio_kg         IPC\n",
       "0  2002         v         280  50.872224  109.235503\n",
       "1  2002         o         150  59.304621  129.962623\n",
       "2  2002         i         100  62.262120  139.101298\n",
       "3  2002         p         200  62.378845  140.377460\n",
       "4  2003         v         301  62.324198  143.869441"
      ]
     },
     "execution_count": 112,
     "metadata": {},
     "output_type": "execute_result"
    }
   ],
   "source": [
    "helados.head()"
   ]
  },
  {
   "cell_type": "markdown",
   "id": "1a1d0e45",
   "metadata": {},
   "source": [
    "El dataframe está estructurado de esta manera: columna 'year' contiene el año que se tabula. Cada año está separado en trimestres de acuerdo a la estación del año: 'verano', 'otoño', 'invierno', 'primavera' (¿Se les ocurre por qué?). La variable 'Ventas_mes' contiene las ventas promedio en cada mes de esa estación de ese año, escaladas en términos de kilos de helado. 'Precio_kg' es el precio promedio del kilo de helado de esa temporada. 'IPC' es el índice de precios al consumidor de Buenos Aires para esa estación del año"
   ]
  },
  {
   "cell_type": "markdown",
   "id": "70b9098c",
   "metadata": {},
   "source": [
    "**Variación de ventas**\n",
    "Para calcular el aumento de las ventas de helado a lo largo del tiempo podemos hacerlo de dos maneras:\\\n",
    "1. La variación de cada temporada contra la temporada anterior (variación trimestral)\n",
    "2. La variación de cada temporada contra la misma temporada del año anterior (variación interanual)"
   ]
  },
  {
   "cell_type": "code",
   "execution_count": 113,
   "id": "0097e6b8",
   "metadata": {},
   "outputs": [],
   "source": [
    "#Creamos una columna nueva donde se almacenará la variación trimestral\n",
    "helados['Kg_trim'] = helados['Ventas_mes'].pct_change()"
   ]
  },
  {
   "cell_type": "code",
   "execution_count": 114,
   "id": "3116af31",
   "metadata": {},
   "outputs": [],
   "source": [
    "#Creamos una columna nueva donde se almacenará la variación interanual\n",
    "helados['Kg_yoy'] = helados['Ventas_mes'].pct_change(4)"
   ]
  },
  {
   "cell_type": "code",
   "execution_count": 115,
   "id": "f1ce74fe",
   "metadata": {},
   "outputs": [
    {
     "data": {
      "text/html": [
       "<div>\n",
       "<style scoped>\n",
       "    .dataframe tbody tr th:only-of-type {\n",
       "        vertical-align: middle;\n",
       "    }\n",
       "\n",
       "    .dataframe tbody tr th {\n",
       "        vertical-align: top;\n",
       "    }\n",
       "\n",
       "    .dataframe thead th {\n",
       "        text-align: right;\n",
       "    }\n",
       "</style>\n",
       "<table border=\"1\" class=\"dataframe\">\n",
       "  <thead>\n",
       "    <tr style=\"text-align: right;\">\n",
       "      <th></th>\n",
       "      <th>year</th>\n",
       "      <th>temporada</th>\n",
       "      <th>Ventas_mes</th>\n",
       "      <th>Precio_kg</th>\n",
       "      <th>IPC</th>\n",
       "      <th>Kg_trim</th>\n",
       "      <th>Kg_yoy</th>\n",
       "    </tr>\n",
       "  </thead>\n",
       "  <tbody>\n",
       "    <tr>\n",
       "      <th>0</th>\n",
       "      <td>2002</td>\n",
       "      <td>v</td>\n",
       "      <td>280</td>\n",
       "      <td>50.872224</td>\n",
       "      <td>109.235503</td>\n",
       "      <td>NaN</td>\n",
       "      <td>NaN</td>\n",
       "    </tr>\n",
       "    <tr>\n",
       "      <th>1</th>\n",
       "      <td>2002</td>\n",
       "      <td>o</td>\n",
       "      <td>150</td>\n",
       "      <td>59.304621</td>\n",
       "      <td>129.962623</td>\n",
       "      <td>-0.464286</td>\n",
       "      <td>NaN</td>\n",
       "    </tr>\n",
       "    <tr>\n",
       "      <th>2</th>\n",
       "      <td>2002</td>\n",
       "      <td>i</td>\n",
       "      <td>100</td>\n",
       "      <td>62.262120</td>\n",
       "      <td>139.101298</td>\n",
       "      <td>-0.333333</td>\n",
       "      <td>NaN</td>\n",
       "    </tr>\n",
       "    <tr>\n",
       "      <th>3</th>\n",
       "      <td>2002</td>\n",
       "      <td>p</td>\n",
       "      <td>200</td>\n",
       "      <td>62.378845</td>\n",
       "      <td>140.377460</td>\n",
       "      <td>1.000000</td>\n",
       "      <td>NaN</td>\n",
       "    </tr>\n",
       "    <tr>\n",
       "      <th>4</th>\n",
       "      <td>2003</td>\n",
       "      <td>v</td>\n",
       "      <td>301</td>\n",
       "      <td>62.324198</td>\n",
       "      <td>143.869441</td>\n",
       "      <td>0.505000</td>\n",
       "      <td>0.075</td>\n",
       "    </tr>\n",
       "  </tbody>\n",
       "</table>\n",
       "</div>"
      ],
      "text/plain": [
       "   year temporada  Ventas_mes  Precio_kg         IPC   Kg_trim  Kg_yoy\n",
       "0  2002         v         280  50.872224  109.235503       NaN     NaN\n",
       "1  2002         o         150  59.304621  129.962623 -0.464286     NaN\n",
       "2  2002         i         100  62.262120  139.101298 -0.333333     NaN\n",
       "3  2002         p         200  62.378845  140.377460  1.000000     NaN\n",
       "4  2003         v         301  62.324198  143.869441  0.505000   0.075"
      ]
     },
     "execution_count": 115,
     "metadata": {},
     "output_type": "execute_result"
    }
   ],
   "source": [
    "helados.head()"
   ]
  },
  {
   "cell_type": "code",
   "execution_count": 116,
   "id": "16132bb3",
   "metadata": {},
   "outputs": [
    {
     "name": "stdout",
     "output_type": "stream",
     "text": [
      "Var trimestral: 0.5049999999999999\n",
      "Var yoy: 0.07499999999999996\n"
     ]
    }
   ],
   "source": [
    "#Validaciones:\n",
    "print(\"Var trimestral: \" + str(301/200-1))\n",
    "print(\"Var yoy: \" + str(301/280-1))"
   ]
  },
  {
   "cell_type": "code",
   "execution_count": 117,
   "id": "61030c1b",
   "metadata": {},
   "outputs": [],
   "source": [
    "#Validaciones (Camino 2):\n",
    "trim = helados.iloc[4,2]/helados.iloc[3,2]-1\n",
    "yoy = helados.iloc[4,2]/helados.iloc[0,2]-1"
   ]
  },
  {
   "cell_type": "code",
   "execution_count": 118,
   "id": "8511c214",
   "metadata": {},
   "outputs": [
    {
     "name": "stdout",
     "output_type": "stream",
     "text": [
      "Validaciones: \n",
      " Var trimestral: 0.5049999999999999\n",
      " Var yoy: 0.07499999999999996\n"
     ]
    }
   ],
   "source": [
    "print(\"Validaciones: \\n Var trimestral: \" + str(trim) + \"\\n Var yoy: \" + str(yoy))"
   ]
  }
 ],
 "metadata": {
  "kernelspec": {
   "display_name": "Python 3 (ipykernel)",
   "language": "python",
   "name": "python3"
  },
  "language_info": {
   "codemirror_mode": {
    "name": "ipython",
    "version": 3
   },
   "file_extension": ".py",
   "mimetype": "text/x-python",
   "name": "python",
   "nbconvert_exporter": "python",
   "pygments_lexer": "ipython3",
   "version": "3.11.4"
  }
 },
 "nbformat": 4,
 "nbformat_minor": 5
}
